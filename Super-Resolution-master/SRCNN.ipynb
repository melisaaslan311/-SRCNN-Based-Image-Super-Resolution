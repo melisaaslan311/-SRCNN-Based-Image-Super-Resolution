{
 "cells": [
  {
   "cell_type": "code",
   "execution_count": 1,
   "id": "bb6711ce-194c-42ce-ac70-bdfdd832235c",
   "metadata": {},
   "outputs": [],
   "source": [
    "import tensorflow as tf\n",
    "from tensorflow.keras import layers, models\n",
    "import numpy as np\n",
    "class SRCNN(tf.keras.Model):\n",
    "    def __init__(self):\n",
    "        super(SRCNN, self).__init__()\n",
    "\n",
    "        self.conv1 = layers.Conv2D(64, (9, 9), activation='relu', padding='same')\n",
    "        self.conv2 = layers.Conv2D(32, (1, 1), activation='relu', padding='same')\n",
    "        self.conv3 = layers.Conv2D(3, (5, 5), activation=\"linear\", padding='same')\n",
    "        ##self.conv3 = layers.Conv2D(3, (5, 5), activation=None, padding='valid')\n",
    "\n",
    "    def call(self, x):\n",
    "        x = self.conv1(x)\n",
    "        x = self.conv2(x)\n",
    "        x = self.conv3(x)\n",
    "        return x\n",
    "\n",
    "if __name__==\"__main__\":\n",
    "    src = SRCNN()"
   ]
  },
  {
   "cell_type": "code",
   "execution_count": null,
   "id": "8bb9e176-1acf-43f5-815f-4f78ece075e0",
   "metadata": {},
   "outputs": [],
   "source": []
  }
 ],
 "metadata": {
  "kernelspec": {
   "display_name": "Python 3 (ipykernel)",
   "language": "python",
   "name": "python3"
  },
  "language_info": {
   "codemirror_mode": {
    "name": "ipython",
    "version": 3
   },
   "file_extension": ".py",
   "mimetype": "text/x-python",
   "name": "python",
   "nbconvert_exporter": "python",
   "pygments_lexer": "ipython3",
   "version": "3.12.4"
  }
 },
 "nbformat": 4,
 "nbformat_minor": 5
}
