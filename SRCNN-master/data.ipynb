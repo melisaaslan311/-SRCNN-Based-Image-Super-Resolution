{
 "cells": [
  {
   "cell_type": "code",
   "execution_count": 2,
   "id": "e995d34b",
   "metadata": {},
   "outputs": [],
   "source": [
    "from os import listdir\n",
    "from os.path import join\n",
    "from torch.utils.data import Dataset\n",
    "import torchvision.transforms as transforms\n",
    "from PIL import Image, ImageFilter\n",
    "import os\n"
   ]
  },
  {
   "cell_type": "code",
   "execution_count": 6,
   "id": "6edf51f6-0f80-442c-a263-3ad12c6030fd",
   "metadata": {},
   "outputs": [],
   "source": [
    "\n",
    "def is_image_file(filename):\n",
    "    return any(filename.endswith(extension) for extension in [\".png\", \".jpg\", \".jpeg\"])\n",
    "\n",
    "def load_img(filepath):\n",
    "    img = Image.open(filepath).convert('YCbCr')\n",
    "    y, _, _ = img.split()  # Y kanalını alıyoruz\n",
    "    return y\n",
    "\n",
    "class DatasetFromFolder(Dataset):\n",
    "    def __init__(self, low_res_dir, high_res_dir):\n",
    "        \"\"\"\n",
    "        Args:\n",
    "            low_res_dir (str): Zaten düşük çözünürlüklü görsellerin bulunduğu klasör.\n",
    "            high_res_dir (str): Orijinal yüksek çözünürlüklü görsellerin bulunduğu klasör.\n",
    "        \"\"\"\n",
    "        super(DatasetFromFolder, self).__init__()\n",
    "        self.low_res_filenames = [join(low_res_dir, x) for x in os.listdir(low_res_dir) if is_image_file(x)]\n",
    "        self.high_res_filenames = [join(high_res_dir, x) for x in os.listdir(high_res_dir) if is_image_file(x)]\n",
    "\n",
    "        assert len(self.low_res_filenames) == len(self.high_res_filenames), \"Low-res and high-res images must match in count.\"\n",
    "\n",
    "        self.input_transform = transforms.ToTensor()\n",
    "        self.target_transform = transforms.ToTensor()\n",
    "\n",
    "    def __getitem__(self, index):\n",
    "        low_res_img = load_img(self.low_res_filenames[index])\n",
    "        high_res_img = load_img(self.high_res_filenames[index])\n",
    "\n",
    "        low_res_img = self.input_transform(low_res_img)\n",
    "        high_res_img = self.target_transform(high_res_img)\n",
    "\n",
    "        return low_res_img, high_res_img\n",
    "\n",
    "    def __len__(self):\n",
    "        return len(self.low_res_filenames)\n"
   ]
  },
  {
   "cell_type": "markdown",
   "id": "913008a9-f933-40f5-82ff-8ddfac68a51c",
   "metadata": {
    "jupyter": {
     "source_hidden": true
    }
   },
   "source": [
    "def is_image_file(filename):\n",
    "    return any(filename.endswith(extension) for extension in [\".png\", \".jpg\", \".jpeg\"])\n",
    "\n",
    "def load_img(filepath):\n",
    "    img = Image.open(filepath).convert('YCbCr')\n",
    "    y, _, _ = img.split()  # Y kanalını alıyoruz, YCbCr renk uzayında\n",
    "    return y\n",
    "\n",
    "CROP_SIZE = 32\n",
    "\n",
    "class DatasetFromFolder(Dataset):\n",
    "    def __init__(self, low_res_dir, high_res_dir, zoom_factor):\n",
    "        \"\"\"\n",
    "        Args:\n",
    "            low_res_dir (str): Düşük çözünürlüklü görsellerin bulunduğu klasör.\n",
    "            high_res_dir (str): Yüksek çözünürlüklü görsellerin bulunduğu klasör.\n",
    "            zoom_factor (int): Görsellerin düşük çözünürlüklü hale getirilmesi için kullanılan faktör.\n",
    "        \"\"\"\n",
    "        super(DatasetFromFolder, self).__init__()\n",
    "        self.low_res_filenames = [join(low_res_dir, x) for x in os.listdir(low_res_dir) if is_image_file(x)]\n",
    "        self.high_res_filenames = [join(high_res_dir, x) for x in os.listdir(high_res_dir) if is_image_file(x)]\n",
    "\n",
    "        # Düşük çözünürlüklü görsellerin boyutunu doğrulamak için\n",
    "        assert len(self.low_res_filenames) == len(self.high_res_filenames), \"Low-res and high-res images must match in count.\"\n",
    "        \n",
    "        crop_size = CROP_SIZE - (CROP_SIZE % zoom_factor)  # Geçerli crop boyutu\n",
    "        self.input_transform = transforms.Compose([\n",
    "            transforms.CenterCrop(crop_size),  # Görseli kes\n",
    "            transforms.Resize(crop_size // zoom_factor),  # Düşük çözünürlük (subsampling)\n",
    "            transforms.Resize(crop_size, interpolation=Image.BICUBIC),  # Yeniden yüksek çözünürlük\n",
    "            transforms.ToTensor()])\n",
    "        \n",
    "        self.target_transform = transforms.Compose([\n",
    "            transforms.CenterCrop(crop_size),  # Hedefi orijinal çözünürlükte tut\n",
    "            transforms.ToTensor()])\n",
    "\n",
    "    def __getitem__(self, index):\n",
    "        low_res_img = load_img(self.low_res_filenames[index])  # Düşük çözünürlüklü görsel\n",
    "        high_res_img = load_img(self.high_res_filenames[index])  # Yüksek çözünürlüklü hedef\n",
    "\n",
    "        low_res_img = self.input_transform(low_res_img)  # Düşük çözünürlüklü input'a dönüşüm\n",
    "        high_res_img = self.target_transform(high_res_img)  # Yüksek çözünürlüklü hedefe dönüşüm\n",
    "\n",
    "        return low_res_img, high_res_img\n",
    "\n",
    "    def __len__(self):\n",
    "        return len(self.low_res_filenames)\n"
   ]
  },
  {
   "cell_type": "markdown",
   "id": "8c64f19a-f7d0-48bb-b96a-30fae3b2dfa5",
   "metadata": {
    "jupyter": {
     "source_hidden": true
    }
   },
   "source": [
    "def is_image_file(filename):\n",
    "    return any(filename.endswith(extension) for extension in [\".png\", \".jpg\", \".jpeg\"])\n",
    "\n",
    "def load_img(filepath):\n",
    "    img = Image.open(filepath).convert('YCbCr')\n",
    "    y, _, _ = img.split()\n",
    "    return y\n",
    "\n",
    "CROP_SIZE = 32\n",
    "\n",
    "class DatasetFromFolder(Dataset):\n",
    "    def __init__(self, image_dir, zoom_factor):\n",
    "        super(DatasetFromFolder, self).__init__()\n",
    "        self.image_filenames = [join(image_dir, x) for x in listdir(image_dir) if is_image_file(x)]\n",
    "\n",
    "        crop_size = CROP_SIZE - (CROP_SIZE % zoom_factor) # Valid crop size\n",
    "        self.input_transform = transforms.Compose([transforms.CenterCrop(crop_size), # cropping the image\n",
    "                                      transforms.Resize(crop_size//zoom_factor),  # subsampling the image (half size)\n",
    "                                      transforms.Resize(crop_size, interpolation=Image.BICUBIC),  # bicubic upsampling to get back the original size \n",
    "                                      transforms.ToTensor()])\n",
    "        self.target_transform = transforms.Compose([transforms.CenterCrop(crop_size), # since it's the target, we keep its original quality\n",
    "                                       transforms.ToTensor()])\n",
    "\n",
    "    def __getitem__(self, index):\n",
    "        input = load_img(self.image_filenames[index])\n",
    "        target = input.copy()\n",
    "        \n",
    "        # input = input.filter(ImageFilter.GaussianBlur(1)) \n",
    "        input = self.input_transform(input)\n",
    "        target = self.target_transform(target)\n",
    "\n",
    "        return input, target\n",
    "\n",
    "    def __len__(self):\n",
    "        return len(self.image_filenames)\n"
   ]
  }
 ],
 "metadata": {
  "kernelspec": {
   "display_name": "Python 3 (ipykernel)",
   "language": "python",
   "name": "python3"
  },
  "language_info": {
   "codemirror_mode": {
    "name": "ipython",
    "version": 3
   },
   "file_extension": ".py",
   "mimetype": "text/x-python",
   "name": "python",
   "nbconvert_exporter": "python",
   "pygments_lexer": "ipython3",
   "version": "3.12.4"
  }
 },
 "nbformat": 4,
 "nbformat_minor": 5
}
